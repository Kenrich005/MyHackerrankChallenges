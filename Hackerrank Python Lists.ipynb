{
 "cells": [
  {
   "cell_type": "markdown",
   "metadata": {},
   "source": [
    "##### 14-Feb-2021"
   ]
  },
  {
   "cell_type": "markdown",
   "metadata": {},
   "source": [
    "Consider a list (list = []). You can perform the following commands:  \n",
    "\n",
    "insert i e: Insert integer  at position .  \n",
    "print: Print the list.  \n",
    "remove e: Delete the first occurrence of integer .  \n",
    "append e: Insert integer  at the end of the list.  \n",
    "sort: Sort the list.  \n",
    "pop: Pop the last element from the list.  \n",
    "reverse: Reverse the list.  "
   ]
  },
  {
   "cell_type": "markdown",
   "metadata": {},
   "source": [
    "Initialize your list and read in the value of  followed by  lines of commands where each command will be of the  types listed above.   \n",
    "Iterate through each command in order and perform the corresponding operation on your list.\n",
    "\n"
   ]
  },
  {
   "cell_type": "code",
   "execution_count": 17,
   "metadata": {},
   "outputs": [
    {
     "name": "stdout",
     "output_type": "stream",
     "text": [
      "[0]\n",
      "[1, 0]\n",
      "[0]\n",
      "[0, 3]\n",
      "[0]\n"
     ]
    }
   ],
   "source": [
    "# Let's first look at how each function mentioned above works\n",
    "\n",
    "list = []\n",
    "list.insert(1,0)\n",
    "print(list)\n",
    "list.insert(0,1)\n",
    "print(list)\n",
    "list.remove(1)\n",
    "print(list)\n",
    "list.append(3)\n",
    "print(list)\n",
    "list.pop()\n",
    "print(list)"
   ]
  },
  {
   "cell_type": "code",
   "execution_count": 18,
   "metadata": {},
   "outputs": [],
   "source": [
    "# We see that input will be in string format.\n",
    "# To execute expressions in string format, we can use eval function.\n",
    "# Let's see how eval function works."
   ]
  },
  {
   "cell_type": "code",
   "execution_count": 107,
   "metadata": {},
   "outputs": [
    {
     "name": "stdout",
     "output_type": "stream",
     "text": [
      "14\n"
     ]
    }
   ],
   "source": [
    "print(eval(\"5+9\"))"
   ]
  },
  {
   "cell_type": "code",
   "execution_count": 106,
   "metadata": {},
   "outputs": [
    {
     "name": "stdout",
     "output_type": "stream",
     "text": [
      "1a2a3a4a5a6\n"
     ]
    }
   ],
   "source": [
    "# Join function adds elements in list with given element\n",
    "l = [\"1\",\"2\",\"3\",\"4\",\"5\",\"6\"]\n",
    "print('a'.join(l))"
   ]
  },
  {
   "cell_type": "code",
   "execution_count": 62,
   "metadata": {},
   "outputs": [
    {
     "name": "stdout",
     "output_type": "stream",
     "text": [
      "insert(1,0)\n"
     ]
    }
   ],
   "source": [
    "execute = \"insert\"+\"(\"+\"1\"+\",\"+\"0\"+\")\"\n",
    "print(execute)"
   ]
  },
  {
   "cell_type": "code",
   "execution_count": 108,
   "metadata": {},
   "outputs": [
    {
     "name": "stdout",
     "output_type": "stream",
     "text": [
      "['1', '2', '3', '4', '5', '6', 3]\n"
     ]
    }
   ],
   "source": [
    "eval(\"l.\"+execute)\n",
    "print(l)"
   ]
  },
  {
   "cell_type": "code",
   "execution_count": 93,
   "metadata": {},
   "outputs": [],
   "source": [
    "l1 = []"
   ]
  },
  {
   "cell_type": "code",
   "execution_count": 113,
   "metadata": {},
   "outputs": [
    {
     "name": "stdout",
     "output_type": "stream",
     "text": [
      "pop 1\n",
      "pop(1)\n"
     ]
    }
   ],
   "source": [
    "s = input().split()\n",
    "execute = s[0]+\"(\"+\",\".join(s[1:])+\")\"\n",
    "print(execute)"
   ]
  },
  {
   "cell_type": "code",
   "execution_count": 114,
   "metadata": {},
   "outputs": [
    {
     "data": {
      "text/plain": [
       "[3]"
      ]
     },
     "execution_count": 114,
     "metadata": {},
     "output_type": "execute_result"
    }
   ],
   "source": [
    "eval(\"l1.\"+execute)\n",
    "l1"
   ]
  },
  {
   "cell_type": "code",
   "execution_count": 116,
   "metadata": {},
   "outputs": [
    {
     "name": "stdout",
     "output_type": "stream",
     "text": [
      "12\n",
      "insert 0 5\n",
      "insert 1 10\n",
      "insert 0 6\n",
      "print\n",
      "[6, 5, 10]\n",
      "remove 6\n",
      "append 9\n",
      "append 1\n",
      "sort\n",
      "print\n",
      "[1, 5, 9, 10]\n",
      "pop\n",
      "reverse\n",
      "print\n",
      "[9, 5, 1]\n"
     ]
    }
   ],
   "source": [
    "# Final Output\n",
    "list=[]\n",
    "n = int(input())\n",
    "for _ in range(n):\n",
    "    s = input().split()\n",
    "    if s[0]==\"print\":\n",
    "        print(list)\n",
    "    else:\n",
    "        execute = s[0]+\"(\"+\",\".join(s[1:])+\")\"\n",
    "        eval(\"list.\"+execute)"
   ]
  },
  {
   "cell_type": "code",
   "execution_count": null,
   "metadata": {},
   "outputs": [],
   "source": []
  }
 ],
 "metadata": {
  "kernelspec": {
   "display_name": "Python 3",
   "language": "python",
   "name": "python3"
  },
  "language_info": {
   "codemirror_mode": {
    "name": "ipython",
    "version": 3
   },
   "file_extension": ".py",
   "mimetype": "text/x-python",
   "name": "python",
   "nbconvert_exporter": "python",
   "pygments_lexer": "ipython3",
   "version": "3.8.5"
  }
 },
 "nbformat": 4,
 "nbformat_minor": 4
}
